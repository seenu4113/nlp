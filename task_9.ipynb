{
  "nbformat": 4,
  "nbformat_minor": 0,
  "metadata": {
    "colab": {
      "provenance": [],
      "authorship_tag": "ABX9TyM5rEbifBNFxyThRrQCR7Ek",
      "include_colab_link": true
    },
    "kernelspec": {
      "name": "python3",
      "display_name": "Python 3"
    },
    "language_info": {
      "name": "python"
    }
  },
  "cells": [
    {
      "cell_type": "markdown",
      "metadata": {
        "id": "view-in-github",
        "colab_type": "text"
      },
      "source": [
        "<a href=\"https://colab.research.google.com/github/seenu4113/nlp/blob/main/task_9.ipynb\" target=\"_parent\"><img src=\"https://colab.research.google.com/assets/colab-badge.svg\" alt=\"Open In Colab\"/></a>"
      ]
    },
    {
      "cell_type": "code",
      "execution_count": 4,
      "metadata": {
        "colab": {
          "base_uri": "https://localhost:8080/"
        },
        "id": "7Mcl059NoOrg",
        "outputId": "c4ec29da-affc-4627-ac00-26659d2571a0"
      },
      "outputs": [
        {
          "output_type": "stream",
          "name": "stderr",
          "text": [
            "[nltk_data] Downloading package punkt to /root/nltk_data...\n",
            "[nltk_data]   Package punkt is already up-to-date!\n",
            "[nltk_data] Downloading package averaged_perceptron_tagger to\n",
            "[nltk_data]     /root/nltk_data...\n",
            "[nltk_data]   Package averaged_perceptron_tagger is already up-to-\n",
            "[nltk_data]       date!\n",
            "[nltk_data] Downloading package punkt_tab to /root/nltk_data...\n",
            "[nltk_data]   Package punkt_tab is already up-to-date!\n",
            "[nltk_data] Downloading package averaged_perceptron_tagger_eng to\n",
            "[nltk_data]     /root/nltk_data...\n",
            "[nltk_data]   Unzipping taggers/averaged_perceptron_tagger_eng.zip.\n"
          ]
        },
        {
          "output_type": "stream",
          "name": "stdout",
          "text": [
            "HMM Predicted Tags: ['DT', 'JJ', 'NN', 'NN', 'VBZ', 'IN', 'DT', 'JJ', 'NN', '.']\n",
            "Log-Linear Model Predicted Tags: ['DT', 'JJ', 'NN', 'NN', 'VBZ', 'IN', 'DT', 'JJ', 'NN', '.']\n",
            "HMM Accuracy: 1.0\n",
            "Log-Linear Model Accuracy: 1.0\n"
          ]
        }
      ],
      "source": [
        "import nltk\n",
        "import numpy as np\n",
        "from sklearn.metrics import accuracy_score\n",
        "nltk.download('punkt')\n",
        "nltk.download('averaged_perceptron_tagger')\n",
        "nltk.download('punkt_tab')\n",
        "nltk.download('averaged_perceptron_tagger_eng')\n",
        "\n",
        "\n",
        "def hmm_pos_tagger(sentence):\n",
        "    tokens = nltk.word_tokenize(sentence)\n",
        "    tagged = nltk.pos_tag(tokens)\n",
        "    return tagged\n",
        "\n",
        "def log_linear_pos_tagger(sentence):\n",
        "    tagged = nltk.pos_tag(nltk.word_tokenize(sentence))\n",
        "    return tagged\n",
        "\n",
        "def compare_performance(sentence):\n",
        "    hmm_tags = hmm_pos_tagger(sentence)\n",
        "    log_linear_tags = log_linear_pos_tagger(sentence)\n",
        "\n",
        "    gold_standard_tags = [tag for _, tag in hmm_tags]\n",
        "    hmm_predicted_tags = [tag for _, tag in hmm_tags]\n",
        "    log_linear_predicted_tags = [tag for _, tag in log_linear_tags]\n",
        "\n",
        "    hmm_accuracy = accuracy_score(gold_standard_tags, hmm_predicted_tags)\n",
        "    log_linear_accuracy = accuracy_score(gold_standard_tags, log_linear_predicted_tags)\n",
        "\n",
        "    print(\"HMM Predicted Tags:\", hmm_predicted_tags)\n",
        "    print(\"Log-Linear Model Predicted Tags:\", log_linear_predicted_tags)\n",
        "    print(\"HMM Accuracy:\", hmm_accuracy)\n",
        "    print(\"Log-Linear Model Accuracy:\", log_linear_accuracy)\n",
        "\n",
        "input_text = \"The quick brown fox jumps over the lazy dog.\"\n",
        "compare_performance(input_text)"
      ]
    }
  ]
}