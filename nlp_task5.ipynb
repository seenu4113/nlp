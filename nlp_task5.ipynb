{
  "nbformat": 4,
  "nbformat_minor": 0,
  "metadata": {
    "colab": {
      "provenance": []
    },
    "kernelspec": {
      "name": "python3",
      "display_name": "Python 3"
    },
    "language_info": {
      "name": "python"
    }
  },
  "cells": [
    {
      "cell_type": "code",
      "execution_count": 3,
      "metadata": {
        "colab": {
          "base_uri": "https://localhost:8080/"
        },
        "id": "Nxbo0kaCHqrI",
        "outputId": "7e7b7ce4-ca49-42c3-ec2b-351c222a42d1"
      },
      "outputs": [
        {
          "output_type": "stream",
          "name": "stderr",
          "text": [
            "[nltk_data] Downloading package punkt to /root/nltk_data...\n",
            "[nltk_data]   Package punkt is already up-to-date!\n",
            "[nltk_data] Downloading package stopwords to /root/nltk_data...\n",
            "[nltk_data]   Package stopwords is already up-to-date!\n",
            "[nltk_data] Downloading package reuters to /root/nltk_data...\n",
            "[nltk_data]   Package reuters is already up-to-date!\n",
            "[nltk_data] Downloading package punkt_tab to /root/nltk_data...\n",
            "[nltk_data]   Unzipping tokenizers/punkt_tab.zip.\n"
          ]
        },
        {
          "output_type": "stream",
          "name": "stdout",
          "text": [
            "he is\n",
            "he is 1\n",
            "he is 1 9\n",
            "he is 1 9 mln\n",
            "he is 1 9 mln debit\n",
            "he is 1 9 mln debit operating\n",
            "he is 1 9 mln debit operating profit\n",
            "he is 1 9 mln debit operating profit fell\n",
            "he is 1 9 mln debit operating profit fell around\n",
            "he is 1 9 mln debit operating profit fell around 17\n",
            "he is 1 9 mln debit operating profit fell around 17 35\n",
            "he is 1 9 mln debit operating profit fell around 17 35 billion\n",
            "he is 1 9 mln debit operating profit fell around 17 35 billion dlrs\n",
            "he is 1 9 mln debit operating profit fell around 17 35 billion dlrs worth\n",
            "he is 1 9 mln debit operating profit fell around 17 35 billion dlrs worth could\n",
            "he is 1 9 mln debit operating profit fell around 17 35 billion dlrs worth could calendar\n",
            "he is 1 9 mln debit operating profit fell around 17 35 billion dlrs worth could calendar based\n",
            "he is 1 9 mln debit operating profit fell around 17 35 billion dlrs worth could calendar based soybean\n",
            "he is 1 9 mln debit operating profit fell around 17 35 billion dlrs worth could calendar based soybean decisions\n",
            "he is 1 9 mln debit operating profit fell around 17 35 billion dlrs worth could calendar based soybean decisions bank\n"
          ]
        }
      ],
      "source": [
        "import string\n",
        "import random\n",
        "import nltk\n",
        "from nltk.corpus import stopwords, reuters\n",
        "from collections import Counter, defaultdict\n",
        "from nltk import FreqDist, ngrams\n",
        "nltk.download('punkt')\n",
        "nltk.download('stopwords')\n",
        "nltk.download('reuters')\n",
        "nltk.download('punkt_tab') # Download the missing resource\n",
        "sents = reuters.sents()\n",
        "\n",
        "stop_word = set(stopwords.words('english'))\n",
        "removal_list = list(stop_word) + list(string.punctuation) + ['\\t', 'rt']\n",
        "\n",
        "unigram = []\n",
        "bigram = []\n",
        "trigram = []\n",
        "for sentence in sents:\n",
        "    sentence = [word.lower() for word in sentence if word != '.']\n",
        "    unigram.extend(sentence)\n",
        "    bigram.extend(list(ngrams(sentence, 2, pad_left=True, pad_right=True)))\n",
        "    trigram.extend(list(ngrams(sentence, 3, pad_left=True, pad_right=True)))\n",
        "\n",
        "def remove_stopwords(items):\n",
        "    filtered = []\n",
        "    for item in items:\n",
        "        if isinstance(item, tuple):\n",
        "            if all(word not in removal_list and word is not None for word in item):\n",
        "                filtered.append(item)\n",
        "        else:\n",
        "            if item not in removal_list:\n",
        "                filtered.append(item)\n",
        "    return filtered\n",
        "unigram = remove_stopwords(unigram)\n",
        "bigram = remove_stopwords(bigram)\n",
        "trigram = remove_stopwords(trigram)\n",
        "freq_uni = FreqDist(unigram)\n",
        "freq_bi = FreqDist(bigram)\n",
        "freq_tri = FreqDist(trigram)\n",
        "d = defaultdict(Counter)\n",
        "for (a, b, c), freq in freq_tri.items():\n",
        "    if a is not None and b is not None and c is not None:\n",
        "        d[(a, b)][c] += freq\n",
        "def pick_word(counter, fallback_list):\n",
        "    \"Choose a random element weighted by frequency, with a fallback.\"\n",
        "    if counter:\n",
        "        return random.choice(list(counter.elements()))\n",
        "    elif fallback_list:\n",
        "        return random.choice(fallback_list)\n",
        "    else:\n",
        "        return \"the\"\n",
        "prefix = (\"he\", \"is\")\n",
        "s = list(prefix)\n",
        "print(\" \".join(s))\n",
        "for _ in range(19):\n",
        "    suffix = pick_word(d[prefix], unigram)\n",
        "    s.append(suffix)\n",
        "    print(\" \".join(s))\n",
        "    prefix = (prefix[1], suffix)"
      ]
    }
  ]
}