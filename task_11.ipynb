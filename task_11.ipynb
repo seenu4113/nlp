{
  "nbformat": 4,
  "nbformat_minor": 0,
  "metadata": {
    "colab": {
      "provenance": [],
      "authorship_tag": "ABX9TyOiaE+YYBTbG1XPQLDMYfQV",
      "include_colab_link": true
    },
    "kernelspec": {
      "name": "python3",
      "display_name": "Python 3"
    },
    "language_info": {
      "name": "python"
    }
  },
  "cells": [
    {
      "cell_type": "markdown",
      "metadata": {
        "id": "view-in-github",
        "colab_type": "text"
      },
      "source": [
        "<a href=\"https://colab.research.google.com/github/seenu4113/nlp/blob/main/task_11.ipynb\" target=\"_parent\"><img src=\"https://colab.research.google.com/assets/colab-badge.svg\" alt=\"Open In Colab\"/></a>"
      ]
    },
    {
      "cell_type": "code",
      "execution_count": 3,
      "metadata": {
        "colab": {
          "base_uri": "https://localhost:8080/"
        },
        "id": "_VYR5C1Rw2Sy",
        "outputId": "749a3bc7-8927-4eff-d572-3898c521725d"
      },
      "outputs": [
        {
          "output_type": "stream",
          "name": "stdout",
          "text": [
            "Extracted Chunks:\n",
            "\n"
          ]
        }
      ],
      "source": [
        "import re, requests, torch\n",
        "import torch.nn as nn\n",
        "from bs4 import BeautifulSoup\n",
        "from tensorflow.keras.utils import pad_sequences\n",
        "from tensorflow.keras.preprocessing.text import Tokenizer\n",
        "class ChunkerModel(nn.Module):\n",
        "    def __init__(self, vocab_size):\n",
        "        super().__init__()\n",
        "        self.lstm, self.fc = nn.LSTM(128, 64, batch_first=True), nn.Linear(64, 1)\n",
        "    def forward(self, x): return torch.sigmoid(self.fc(self.lstm(x)[0][:, -1, :]))\n",
        "def fetch_text(url):\n",
        "    return re.sub(r'\\s+', ' ', ' '.join(p.get_text() for p in BeautifulSoup(requests.get(url).text,\n",
        "    'html.parser').find_all('p')))\n",
        "def preprocess(text):\n",
        "    tok = Tokenizer(num_words=5000)\n",
        "    tok.fit_on_texts([text])\n",
        "    return pad_sequences(tok.texts_to_sequences([text]), maxlen=100, padding='post'), tok\n",
        "def segment_text(url):\n",
        "    text, (seq, tok) = fetch_text(url), preprocess(fetch_text(url))\n",
        "    return text.split('. ')[:5]\n",
        "print(\"Extracted Chunks:\",\n",
        "*segment_text(\"https://en.wikipedia.org/wiki/Natural_language_processing\"), sep=\"\\n\")"
      ]
    }
  ]
}