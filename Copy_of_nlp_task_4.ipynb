{
  "nbformat": 4,
  "nbformat_minor": 0,
  "metadata": {
    "colab": {
      "provenance": []
    },
    "kernelspec": {
      "name": "python3",
      "display_name": "Python 3"
    },
    "language_info": {
      "name": "python"
    }
  },
  "cells": [
    {
      "cell_type": "code",
      "source": [
        "import nltk\n",
        "from nltk.tokenize import word_tokenize\n",
        "from nltk.corpus import stopwords\n",
        "from nltk.probability import FreqDist\n",
        "nltk.download('punkt')\n",
        "nltk.download('stopwords')\n",
        "nltk.download('punkt_tab')\n",
        "def load_document(file_path):\n",
        "    with open(file_path, 'r', encoding='utf-8') as file:\n",
        "        return file.read()\n",
        "\n",
        "def tokenize_document(document):\n",
        "    tokens = word_tokenize(document)\n",
        "    return [word.lower() for word in tokens if word.isalpha()]\n",
        "def remove_stopwords(tokens):\n",
        "    stop_words = set(stopwords.words('english'))\n",
        "    return [word for word in tokens if word not in stop_words]\n",
        "def find_morphology(tokens):\n",
        "    fdist = FreqDist(tokens)\n",
        "    return fdist.most_common()\n",
        "document_path = '/content/ss.txt'\n",
        "document_text = load_document(document_path)\n",
        "tokens = tokenize_document(document_text)\n",
        "tokens_without_stopwords = remove_stopwords(tokens)\n",
        "morphology = find_morphology(tokens_without_stopwords)\n",
        "\n",
        "print(\"Morphology of the document:\")\n",
        "for word, frequency in morphology:\n",
        "    print(f\"{word}: {frequency}\")"
      ],
      "metadata": {
        "colab": {
          "base_uri": "https://localhost:8080/"
        },
        "id": "NoDteVhESKfd",
        "outputId": "02f77a11-7987-4fd4-b97f-5d2958fd5875"
      },
      "execution_count": null,
      "outputs": [
        {
          "output_type": "stream",
          "name": "stdout",
          "text": [
            "Morphology of the document:\n",
            "nlp: 7\n",
            "language: 3\n",
            "natural: 2\n",
            "computers: 2\n",
            "human: 2\n",
            "machine: 2\n",
            "computational: 2\n",
            "learning: 2\n",
            "data: 2\n",
            "processing: 1\n",
            "subfield: 1\n",
            "artificial: 1\n",
            "intelligence: 1\n",
            "ai: 1\n",
            "focuses: 1\n",
            "interaction: 1\n",
            "humans: 1\n",
            "ultimate: 1\n",
            "goal: 1\n",
            "enable: 1\n",
            "understand: 1\n",
            "interpret: 1\n",
            "generate: 1\n",
            "way: 1\n",
            "valuable: 1\n",
            "meaningful: 1\n",
            "applications: 1\n",
            "include: 1\n",
            "translation: 1\n",
            "sentiment: 1\n",
            "analysis: 1\n",
            "speech: 1\n",
            "recognition: 1\n",
            "chatbots: 1\n",
            "combines: 1\n",
            "modeling: 1\n",
            "statistical: 1\n",
            "deep: 1\n",
            "models: 1\n",
            "recent: 1\n",
            "advancements: 1\n",
            "driven: 1\n",
            "powerful: 1\n",
            "resources: 1\n",
            "despite: 1\n",
            "significant: 1\n",
            "progress: 1\n",
            "still: 1\n",
            "faces: 1\n",
            "challenges: 1\n",
            "ambiguity: 1\n",
            "context: 1\n",
            "understanding: 1\n",
            "need: 1\n",
            "vast: 1\n",
            "amounts: 1\n",
            "labeled: 1\n",
            "researchers: 1\n",
            "continue: 1\n",
            "explore: 1\n",
            "new: 1\n",
            "methods: 1\n",
            "improve: 1\n",
            "accuracy: 1\n",
            "efficiency: 1\n",
            "systems: 1\n"
          ]
        },
        {
          "output_type": "stream",
          "name": "stderr",
          "text": [
            "[nltk_data] Downloading package punkt to /root/nltk_data...\n",
            "[nltk_data]   Package punkt is already up-to-date!\n",
            "[nltk_data] Downloading package stopwords to /root/nltk_data...\n",
            "[nltk_data]   Package stopwords is already up-to-date!\n",
            "[nltk_data] Downloading package punkt_tab to /root/nltk_data...\n",
            "[nltk_data]   Package punkt_tab is already up-to-date!\n"
          ]
        }
      ]
    }
  ]
}