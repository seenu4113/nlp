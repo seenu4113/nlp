{
  "cells": [
    {
      "cell_type": "code",
      "execution_count": 2,
      "metadata": {
        "colab": {
          "base_uri": "https://localhost:8080/"
        },
        "id": "EVS7ggpnIB6N",
        "outputId": "7779f388-1ce4-4c74-fa23-e475db0f96ee"
      },
      "outputs": [
        {
          "output_type": "stream",
          "name": "stderr",
          "text": [
            "[nltk_data] Downloading package punkt to /root/nltk_data...\n",
            "[nltk_data]   Package punkt is already up-to-date!\n",
            "[nltk_data] Downloading package punkt_tab to /root/nltk_data...\n",
            "[nltk_data]   Package punkt_tab is already up-to-date!\n"
          ]
        },
        {
          "output_type": "stream",
          "name": "stdout",
          "text": [
            "token: ['Tokenization', 'without', 'transformers', 'is', 'straight', 'forward', 'with', 'tools', 'like', 'NLTK', '.']\n",
            "transformers tokens: {'input_ids': tensor([[  101, 19204,  3989,  2302, 19081,  2003,  3442,  2830,  2007,  5906,\n",
            "          2066, 17953,  2102,  2243,  1012,   102]]), 'token_type_ids': tensor([[0, 0, 0, 0, 0, 0, 0, 0, 0, 0, 0, 0, 0, 0, 0, 0]]), 'attention_mask': tensor([[1, 1, 1, 1, 1, 1, 1, 1, 1, 1, 1, 1, 1, 1, 1, 1]])}\n",
            "transformers Tokens[list]: ['[CLS]', 'token', '##ization', 'without', 'transformers', 'is', 'straight', 'forward', 'with', 'tools', 'like', 'nl', '##t', '##k', '.', '[SEP]']\n",
            "Decoded Text: tokenization without transformers is straight forward with tools like nltk.\n"
          ]
        }
      ],
      "source": [
        "import nltk\n",
        "from nltk.tokenize import word_tokenize, sent_tokenize # Import sent_tokenize as it's used internally by word_tokenize\n",
        "nltk.download('punkt')\n",
        "nltk.download('punkt_tab') # Download the missing resource\n",
        "\n",
        "text = \"Tokenization without transformers is straight forward with tools like NLTK.\"\n",
        "tokens  = word_tokenize(text)\n",
        "print(\"token:\",tokens)\n",
        "\n",
        "from transformers import AutoTokenizer\n",
        "tokenizer = AutoTokenizer.from_pretrained(\"bert-base-uncased\")\n",
        "text = \"Tokenization without transformers is straight forward with tools like NLTK.\"\n",
        "tokens_transformers = tokenizer(text,return_tensors=\"pt\")\n",
        "print(\"transformers tokens:\",tokens_transformers)\n",
        "tokens_transformers_list = tokenizer.convert_ids_to_tokens(tokens_transformers[\"input_ids\"][0].numpy().tolist())\n",
        "print(\"transformers Tokens[list]:\",tokens_transformers_list)\n",
        "decoded_text = tokenizer.decode(tokens_transformers[\"input_ids\"][0], skip_special_tokens = True)\n",
        "print(\"Decoded Text:\",decoded_text)"
      ]
    }
  ],
  "metadata": {
    "colab": {
      "provenance": []
    },
    "kernelspec": {
      "display_name": "Python 3",
      "name": "python3"
    },
    "language_info": {
      "name": "python"
    }
  },
  "nbformat": 4,
  "nbformat_minor": 0
}